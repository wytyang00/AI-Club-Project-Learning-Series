{
  "cells": [
    {
      "cell_type": "markdown",
      "metadata": {},
      "source": [
        "## Week 3\n",
        "### Importing dependencies"
      ]
    },
    {
      "cell_type": "code",
      "execution_count": 1,
      "metadata": {
        "id": "EXCWWpnsyeOg"
      },
      "outputs": [],
      "source": [
        "import torch\n",
        "import torchvision\n",
        "from torchvision import transforms\n",
        "\n",
        "from torch import nn\n",
        "import torch.nn.functional as F\n",
        "from torch.optim import AdamW\n",
        "\n",
        "from torch.utils.tensorboard import SummaryWriter"
      ]
    },
    {
      "cell_type": "markdown",
      "metadata": {},
      "source": [
        "### Preparing the data"
      ]
    },
    {
      "cell_type": "code",
      "execution_count": 2,
      "metadata": {
        "id": "Buo-siteyuVN"
      },
      "outputs": [],
      "source": [
        "def train_pl():\n",
        "    # A set of transformations to apply to the images\n",
        "    transform = transforms.Compose([\n",
        "        transforms.Grayscale(),\n",
        "        transforms.ToTensor(),\n",
        "        transforms.Normalize(0.485, 0.229)\n",
        "        #transforms.Normalize(0.508, 0.323)\n",
        "    ])\n",
        "\n",
        "    # Load the training dataset (the data is now \"readied\"; it is not actually loaded into memory)\n",
        "    train_data = torchvision.datasets.FER2013(root='./', split=\"train\", transform=transform)\n",
        "\n",
        "    # Create a data loader for (actually) loading the data in batches\n",
        "    train_loader = torch.utils.data.DataLoader(train_data, batch_size=32, shuffle=True, num_workers=3) # Battery saving mode may limit the number of workers (possibly causing error)\n",
        "\n",
        "    return train_loader"
      ]
    },
    {
      "cell_type": "markdown",
      "metadata": {},
      "source": [
        "## Week 4\n",
        "### Define the model architecture"
      ]
    },
    {
      "cell_type": "code",
      "execution_count": 3,
      "metadata": {
        "id": "9LC7jysi0WkL"
      },
      "outputs": [],
      "source": [
        "class EmotionModel(nn.Module):\n",
        "    def __init__(self):\n",
        "        super(EmotionModel, self).__init__()\n",
        "        \n",
        "        self.conv_layers = nn.Sequential(\n",
        "            nn.Conv2d(1, 32, kernel_size=3, padding=1),     # padding=1 keeps the image size the same before and after convolution\n",
        "            nn.ReLU(),\n",
        "            nn.MaxPool2d(kernel_size=2, stride=2),          # [batch_size, 32, 48, 48] => [batch_size, 32, 24, 24]\n",
        "            nn.Conv2d(32, 64, kernel_size=3, padding=1),\n",
        "            nn.ReLU(),\n",
        "            nn.MaxPool2d(kernel_size=2, stride=2),          # [batch_size, 64, 24, 24] => [batch_size, 64, 12, 12]\n",
        "            nn.Conv2d(64, 128, kernel_size=3, padding=1),\n",
        "            nn.ReLU(),\n",
        "            nn.MaxPool2d(kernel_size=2, stride=2)           # [batch_size, 128, 12, 12] => [batch_size, 128, 6, 6]\n",
        "        )\n",
        "        \n",
        "        self.fc_layers = nn.Sequential(\n",
        "            nn.Linear(128 * 6 * 6, 128),\n",
        "            nn.ReLU(),\n",
        "            nn.Dropout(0.5),\n",
        "            nn.Linear(128, 7)\n",
        "        )\n",
        "        \n",
        "    def forward(self, x):\n",
        "        x = self.conv_layers(x)\n",
        "        x = x.view(x.size(0), -1)   # [batch_size, flattened_size]\n",
        "        x = self.fc_layers(x)\n",
        "        return x\n",
        "            "
      ]
    },
    {
      "cell_type": "code",
      "execution_count": 4,
      "metadata": {},
      "outputs": [],
      "source": [
        "# model = EmotionModel()\n",
        "# model.cuda()\n",
        "# emotion_labels = [\"Angry\", \"Disgust\", \"Fear\", \"Happy\", \"Sad\", \"Surprise\", \"Neutral\"]\n",
        "\n",
        "# batch = next(iter(train_loader))\n",
        "# x, y = batch\n",
        "# prediction = model(x.cuda()).cpu()\n",
        "# print([emotion_labels[index] for index in prediction.argmax(dim=1)])"
      ]
    },
    {
      "cell_type": "markdown",
      "metadata": {},
      "source": [
        "## Week 5\n",
        "### Training function"
      ]
    },
    {
      "cell_type": "code",
      "execution_count": 5,
      "metadata": {},
      "outputs": [],
      "source": [
        "def train():\n",
        "    model = EmotionModel().cuda()\n",
        "    optimizer = AdamW(model.parameters(), lr=1e-3)\n",
        "    loss_fn = nn.CrossEntropyLoss()\n",
        "    \n",
        "    train_set = train_pl()\n",
        "    writer = SummaryWriter()\n",
        "    \n",
        "    for epoch in range(50):\n",
        "        num_samples = 0\n",
        "        train_correct_count = 0\n",
        "        train_loss_sum = 0.0\n",
        "        for batch in train_set:\n",
        "            X, y = batch\n",
        "            num_samples += X.size(0)\n",
        "            X, y = X.cuda(), y.cuda()\n",
        "            prediction = model(X)\n",
        "            loss = loss_fn(prediction, y)\n",
        "            \n",
        "            train_correct_count += (prediction.argmax(dim=1) == y).sum().item()\n",
        "            train_loss_sum += loss.item()\n",
        "            optimizer.zero_grad()\n",
        "            loss.backward()\n",
        "            optimizer.step()\n",
        "        writer.add_scalar('train_loss', train_loss_sum / num_samples, epoch)\n",
        "        writer.add_scalar('train_accuracy', train_correct_count / num_samples, epoch)\n",
        "    \n",
        "    writer.flush()\n",
        "    writer.close()\n",
        "    \n",
        "    return model"
      ]
    },
    {
      "cell_type": "markdown",
      "metadata": {},
      "source": [
        "### Train the model and save its parameters"
      ]
    },
    {
      "cell_type": "code",
      "execution_count": 6,
      "metadata": {},
      "outputs": [],
      "source": [
        "### Uncomment the lines below and then execute to perform the training & saving\n",
        "# trained_model = train()\n",
        "# torch.save(trained_model, \"model_MK1\")"
      ]
    },
    {
      "cell_type": "markdown",
      "metadata": {},
      "source": [
        "## Week 6\n",
        "### Load the saved parameters\n",
        "Note: The model architecture is not saved. When loading the saved parameters, the model class must be already defined (or imported)."
      ]
    },
    {
      "cell_type": "code",
      "execution_count": 7,
      "metadata": {},
      "outputs": [
        {
          "data": {
            "text/plain": [
              "EmotionModel(\n",
              "  (conv_layers): Sequential(\n",
              "    (0): Conv2d(1, 32, kernel_size=(3, 3), stride=(1, 1), padding=(1, 1))\n",
              "    (1): ReLU()\n",
              "    (2): MaxPool2d(kernel_size=2, stride=2, padding=0, dilation=1, ceil_mode=False)\n",
              "    (3): Conv2d(32, 64, kernel_size=(3, 3), stride=(1, 1), padding=(1, 1))\n",
              "    (4): ReLU()\n",
              "    (5): MaxPool2d(kernel_size=2, stride=2, padding=0, dilation=1, ceil_mode=False)\n",
              "    (6): Conv2d(64, 128, kernel_size=(3, 3), stride=(1, 1), padding=(1, 1))\n",
              "    (7): ReLU()\n",
              "    (8): MaxPool2d(kernel_size=2, stride=2, padding=0, dilation=1, ceil_mode=False)\n",
              "  )\n",
              "  (fc_layers): Sequential(\n",
              "    (0): Linear(in_features=4608, out_features=128, bias=True)\n",
              "    (1): ReLU()\n",
              "    (2): Dropout(p=0.5, inplace=False)\n",
              "    (3): Linear(in_features=128, out_features=7, bias=True)\n",
              "  )\n",
              ")"
            ]
          },
          "execution_count": 7,
          "metadata": {},
          "output_type": "execute_result"
        }
      ],
      "source": [
        "model = torch.load(\"model_MK1\")\n",
        "model"
      ]
    },
    {
      "cell_type": "markdown",
      "metadata": {},
      "source": [
        "From here on out, there are several things that can be done:\n",
        "\n",
        "    1. Test the model on the test set\n",
        "\n",
        "    2. Perform further training to potentially improve the model\n",
        "\n",
        "    3. Get more (better) data for training\n",
        "\n",
        "    4. Modularize the code into organized scripts\n",
        "    \n",
        "    5. Deploy the model for use"
      ]
    }
  ],
  "metadata": {
    "colab": {
      "provenance": []
    },
    "kernelspec": {
      "display_name": "Python 3",
      "name": "python3"
    },
    "language_info": {
      "codemirror_mode": {
        "name": "ipython",
        "version": 3
      },
      "file_extension": ".py",
      "mimetype": "text/x-python",
      "name": "python",
      "nbconvert_exporter": "python",
      "pygments_lexer": "ipython3",
      "version": "3.9.13"
    }
  },
  "nbformat": 4,
  "nbformat_minor": 0
}
